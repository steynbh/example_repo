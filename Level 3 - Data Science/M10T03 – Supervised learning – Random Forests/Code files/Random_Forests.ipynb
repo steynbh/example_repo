{
  "cells": [
    {
      "cell_type": "markdown",
      "metadata": {
        "id": "IRPrKgqfaZJd"
      },
      "source": [
        "# Random Forests"
      ]
    },
    {
      "cell_type": "code",
      "execution_count": null,
      "metadata": {
        "id": "pN9VMGrB7f2S"
      },
      "outputs": [],
      "source": [
        "# Import libraries\n",
        "import pandas as pd\n",
        "\n",
        "from sklearn.datasets import make_classification\n",
        "from sklearn.model_selection import train_test_split\n",
        "from sklearn.metrics import accuracy_score\n",
        "\n",
        "from sklearn.tree import DecisionTreeClassifier\n",
        "from sklearn.ensemble import BaggingClassifier\n",
        "from sklearn.ensemble import RandomForestClassifier\n",
        "from sklearn.ensemble import AdaBoostClassifier\n",
        "\n",
        "import matplotlib.pyplot as plt\n",
        "%matplotlib inline"
      ]
    },
    {
      "cell_type": "code",
      "execution_count": null,
      "metadata": {
        "id": "RmtckLTyjJga"
      },
      "outputs": [],
      "source": [
        "# Set random seed\n",
        "random_seed = 64\n",
        "\n",
        "# Create toy data\n",
        "X, y = make_classification(n_samples=1000, n_features=10,\n",
        "                           n_informative=5, n_redundant=0,\n",
        "                           random_state=random_seed, shuffle=False)\n",
        "\n",
        "# Split the dataset into training and testing sets\n",
        "X_train, X_test, y_train, y_test = train_test_split(X, y, test_size=0.3, random_state=random_seed)"
      ]
    },
    {
      "cell_type": "markdown",
      "metadata": {
        "id": "J6hVSLAAjLiM"
      },
      "source": [
        "The code above generates synthetic data using the `make_classification` function, which creates a dataset with 1,000 samples and 10 features, of which 5 are informative. The `random_state` parameter ensures reproducibility, while `shuffle=False` maintains the order of the generated data. The `train_test_split` function then divides the data into training (70%) and testing (30%) sets, allowing for effective model training and evaluation. This approach provides a quick way to create a classification dataset and prepare it for machine learning tasks."
      ]
    },
    {
      "cell_type": "code",
      "execution_count": null,
      "metadata": {
        "id": "MkJAWWc9u-_a",
        "outputId": "33ce467b-0a96-4c09-cb9d-937439276530"
      },
      "outputs": [
        {
          "name": "stdout",
          "output_type": "stream",
          "text": [
            "[[ 2.45157734  1.09142883  0.92743446 -0.49335812  1.30127331  1.27356542\n",
            "  -0.97119243 -0.39617173 -0.82945948  1.69614487]\n",
            " [-1.40683798  1.6174358  -2.78513129 -0.98602106  0.6650755   0.20562323\n",
            "  -0.12273834 -0.04834067  1.27899003 -0.43834415]\n",
            " [-1.57422889 -1.7672643  -0.35867343 -2.07831199  3.21761459 -0.2924686\n",
            "  -0.61767503 -0.97260573  0.55168279  2.20746197]\n",
            " [-1.09191281  0.66697872  0.78546347 -1.43566373  0.66550185  0.70530761\n",
            "  -2.69002349 -0.12205332  0.22013116  1.51827552]]\n"
          ]
        }
      ],
      "source": [
        "print(X[1:5])"
      ]
    },
    {
      "cell_type": "code",
      "execution_count": null,
      "metadata": {
        "colab": {
          "base_uri": "https://localhost:8080/"
        },
        "id": "KmYXIFFc7f2Y",
        "outputId": "becff4ce-fc8d-4a89-d0c2-aa48639aba1d"
      },
      "outputs": [
        {
          "name": "stdout",
          "output_type": "stream",
          "text": [
            "Accuracy base: 0.7633333333333333\n",
            "Accuracy ensemble: 0.8266666666666667\n"
          ]
        }
      ],
      "source": [
        "# Create base model\n",
        "base = DecisionTreeClassifier(max_depth=5, random_state=random_seed)\n",
        "\n",
        "# Create an ensemble model\n",
        "ensemble = BaggingClassifier(estimator=base, n_estimators=100, random_state=random_seed)\n",
        "\n",
        "# Fit the base model on the training data\n",
        "base.fit(X_train,y_train)\n",
        "\n",
        "# Fit the ensemble model on the training data\n",
        "ensemble.fit(X_train,y_train)\n",
        "\n",
        "print(\"Accuracy base:\",base.score(X_test, y_test))\n",
        "print(\"Accuracy ensemble:\",ensemble.score(X_test, y_test))"
      ]
    },
    {
      "cell_type": "markdown",
      "metadata": {
        "id": "p8mkGLqlkAvl"
      },
      "source": [
        "In this code, a Decision Tree classifier is created as the base model, with a maximum depth of 5 to prevent overfitting. An ensemble model is then constructed using the `BaggingClassifier`, which combines 100 instances of the base decision tree to improve the model's accuracy and stability. The `random_state` parameter ensures that the results can be reproduced. After initialising the models, the code fits both the base and ensemble models to the training data, enabling them to learn from it. Finally, the accuracy of both models is evaluated using the test data and printed to compare their performance. This process highlights the potential benefits of using ensemble methods, such as bagging, which can often outperform single classifiers by reducing variance and improving predictions."
      ]
    },
    {
      "cell_type": "markdown",
      "metadata": {
        "id": "xV_ujLdW7f2b"
      },
      "source": [
        "###  Feature importance scores\n",
        "\n",
        "A property of the Random Forest ensemble method in sklearn is that it lets you print importance scores for features in the dataset."
      ]
    },
    {
      "cell_type": "code",
      "execution_count": null,
      "metadata": {
        "colab": {
          "base_uri": "https://localhost:8080/",
          "height": 397
        },
        "id": "oMD73jvh7f2c",
        "outputId": "56cab45b-9f3c-4b7d-d4d1-22a96682747a"
      },
      "outputs": [
        {
          "data": {
            "text/plain": [
              "1    0.228688\n",
              "2    0.188295\n",
              "0    0.145403\n",
              "4    0.081513\n",
              "3    0.079845\n",
              "7    0.063679\n",
              "8    0.057518\n",
              "6    0.053642\n",
              "9    0.053519\n",
              "5    0.047898\n",
              "dtype: float64"
            ]
          },
          "execution_count": 118,
          "metadata": {},
          "output_type": "execute_result"
        }
      ],
      "source": [
        "forest = RandomForestClassifier(n_estimators=100, random_state=random_seed)\n",
        "forest.fit(X_train, y_train)\n",
        "\n",
        "feature_imp = pd.Series(forest.feature_importances_).sort_values(ascending=False)\n",
        "feature_imp"
      ]
    },
    {
      "cell_type": "markdown",
      "metadata": {
        "id": "DicM0dwn7f2d"
      },
      "source": [
        "At the start of this notebook, we specified that this dataset has 10 features, of which 5 are informative. The classifier relied on the bottom five features (0,1,2,3,4) less than the higher numbered features (7,8,9,6,5). An advantage of investigating the importance of features is that irrelevant features can be removed. This removal of noise tends to improve performance and reduce training time."
      ]
    },
    {
      "cell_type": "code",
      "execution_count": null,
      "metadata": {
        "colab": {
          "base_uri": "https://localhost:8080/"
        },
        "id": "_YXzZrgj7f2e",
        "outputId": "1b64d61c-79e3-4a31-c268-a41cd181ad6d"
      },
      "outputs": [
        {
          "name": "stdout",
          "output_type": "stream",
          "text": [
            "Accuracy base: 0.7866666666666666\n",
            "Accuracy ensemble: 0.8433333333333334\n"
          ]
        }
      ],
      "source": [
        "# select important features\n",
        "X = X[:, :5]\n",
        "\n",
        "# retrain\n",
        "X_train, X_test, y_train, y_test = train_test_split(X, y, test_size=0.3, random_state=random_seed) # 70% training and 30% test\n",
        "base.fit(X_train,y_train)\n",
        "ensemble.fit(X_train,y_train)\n",
        "\n",
        "print(\"Accuracy base:\",base.score(X_test, y_test))\n",
        "print(\"Accuracy ensemble:\",ensemble.score(X_test, y_test))"
      ]
    }
  ],
  "metadata": {
    "colab": {
      "provenance": []
    },
    "kernelspec": {
      "display_name": "Python 3",
      "language": "python",
      "name": "python3"
    },
    "language_info": {
      "codemirror_mode": {
        "name": "ipython",
        "version": 3
      },
      "file_extension": ".py",
      "mimetype": "text/x-python",
      "name": "python",
      "nbconvert_exporter": "python",
      "pygments_lexer": "ipython3",
      "version": "3.11.3"
    }
  },
  "nbformat": 4,
  "nbformat_minor": 0
}